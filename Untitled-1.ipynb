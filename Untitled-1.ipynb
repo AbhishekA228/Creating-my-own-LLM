{
 "cells": [
  {
   "cell_type": "code",
   "execution_count": 21,
   "metadata": {},
   "outputs": [
    {
     "name": "stdout",
     "output_type": "stream",
     "text": [
      "['\\n', ' ', '!', '\"', \"'\", '*', ',', '-', '.', '0', '1', '2', '3', '4', '5', '6', '7', '8', '9', ':', ';', '?', 'A', 'B', 'C', 'D', 'E', 'F', 'G', 'H', 'I', 'J', 'K', 'L', 'M', 'N', 'O', 'P', 'Q', 'R', 'S', 'T', 'U', 'V', 'W', 'Y', 'Z', '[', ']', '_', 'a', 'b', 'c', 'd', 'e', 'f', 'g', 'h', 'i', 'j', 'k', 'l', 'm', 'n', 'o', 'p', 'q', 'r', 's', 't', 'u', 'v', 'w', 'x', 'y', 'z', '\\ufeff']\n"
     ]
    }
   ],
   "source": [
    "with open('wizard_of_oz.txt','r',encoding='utf-8') as f:\n",
    "    text=f.read()\n",
    "chars=sorted(set(text))\n",
    "print(chars)"
   ]
  },
  {
   "cell_type": "code",
   "execution_count": 22,
   "metadata": {},
   "outputs": [
    {
     "name": "stdout",
     "output_type": "stream",
     "text": [
      "[57, 54, 61, 61, 64, 10, 11, 12]\n",
      "hello123\n"
     ]
    }
   ],
   "source": [
    "string_to_int={ch:i for i,ch in enumerate(chars)}\n",
    "int_to_string={i:ch for i,ch in enumerate(chars)}\n",
    "encode=lambda s:[string_to_int[c] for c in s]\n",
    "decode=lambda l:''.join([int_to_string[i] for i in l])\n",
    "print(encode('hello123'))\n",
    "print(decode([57, 54, 61, 61, 64, 10, 11, 12]))"
   ]
  },
  {
   "cell_type": "code",
   "execution_count": 28,
   "metadata": {},
   "outputs": [
    {
     "name": "stdout",
     "output_type": "stream",
     "text": [
      "cuda\n"
     ]
    }
   ],
   "source": [
    "import torch\n",
    "device='cuda' if torch.cuda.is_available() else 'cpu'\n",
    "print(device)"
   ]
  },
  {
   "cell_type": "code",
   "execution_count": 24,
   "metadata": {},
   "outputs": [
    {
     "name": "stdout",
     "output_type": "stream",
     "text": [
      "tensor([76, 33, 30, 40, 41,  1, 36, 27,  1, 24, 29, 22, 37, 41, 26, 39, 40,  0,\n",
      "         0, 47, 30, 61, 61, 70, 68, 69, 67, 50, 69, 58, 64, 63, 48,  0,  0,  0,\n",
      "         1,  1,  1,  1,  1, 10,  1, 44, 64, 64, 69,  1, 69, 57, 54,  1, 44, 50,\n",
      "        63, 53, 54, 67, 54, 67,  1,  1,  1,  1,  1,  1,  1,  1,  1,  1,  1,  1,\n",
      "         1,  1,  1,  1,  1,  1,  1,  1,  1,  1,  1, 10, 12,  0,  0,  1,  1,  1,\n",
      "         1,  1, 11,  1, 41, 57, 54,  1, 29, 54])\n"
     ]
    }
   ],
   "source": [
    "data=torch.tensor(encode(text),dtype=torch.long)\n",
    "print(data[:100])"
   ]
  },
  {
   "cell_type": "code",
   "execution_count": 25,
   "metadata": {},
   "outputs": [],
   "source": [
    "n=int(0.8*len(data))\n",
    "train_data=data[:n]\n",
    "val_data=data[n:]"
   ]
  },
  {
   "cell_type": "code",
   "execution_count": 26,
   "metadata": {},
   "outputs": [
    {
     "name": "stdout",
     "output_type": "stream",
     "text": [
      "when input is tensor([76]) target is tensor(33)\n",
      "when input is tensor([76, 33]) target is tensor(30)\n",
      "when input is tensor([76, 33, 30]) target is tensor(40)\n",
      "when input is tensor([76, 33, 30, 40]) target is tensor(41)\n",
      "when input is tensor([76, 33, 30, 40, 41]) target is tensor(1)\n",
      "when input is tensor([76, 33, 30, 40, 41,  1]) target is tensor(36)\n",
      "when input is tensor([76, 33, 30, 40, 41,  1, 36]) target is tensor(27)\n",
      "when input is tensor([76, 33, 30, 40, 41,  1, 36, 27]) target is tensor(1)\n"
     ]
    }
   ],
   "source": [
    "block_size=8\n",
    "x=train_data[:block_size]\n",
    "y=train_data[1:block_size+1]\n",
    "for t in range(block_size):\n",
    "    context=x[:t+1]\n",
    "    target=y[t]\n",
    "    print('when input is',context,'target is',target)"
   ]
  },
  {
   "cell_type": "code",
   "execution_count": 31,
   "metadata": {},
   "outputs": [],
   "source": [
    "import numpy\n",
    "import time"
   ]
  },
  {
   "cell_type": "code",
   "execution_count": 35,
   "metadata": {},
   "outputs": [
    {
     "name": "stdout",
     "output_type": "stream",
     "text": [
      "  0.000000\n"
     ]
    }
   ],
   "source": [
    "start_time=time.time()\n",
    "zeros=torch.zeros(1,1)\n",
    "end_time=time.time()\n",
    "elapsed_time=end_time-start_time\n",
    "print(f\"{elapsed_time:10f}\")"
   ]
  },
  {
   "cell_type": "code",
   "execution_count": null,
   "metadata": {},
   "outputs": [],
   "source": [
    "torch_rand1=torch.rand(100,100,100,100).to(device)\n",
    "start_time=time.time()\n",
    "zeros=torch.zeros(1,1)\n",
    "end_time=time.time()\n",
    "elapsed_time=end_time-start_time\n",
    "print(f\"{elapsed_time:10f}\")\n",
    "start_time=time.time()\n",
    "zeros=torch.zeros(1,1)\n",
    "end_time=time.time()\n",
    "elapsed_time=end_time-start_time\n",
    "print(f\"{elapsed_time:10f}\")"
   ]
  }
 ],
 "metadata": {
  "kernelspec": {
   "display_name": "Python 3",
   "language": "python",
   "name": "python3"
  },
  "language_info": {
   "codemirror_mode": {
    "name": "ipython",
    "version": 3
   },
   "file_extension": ".py",
   "mimetype": "text/x-python",
   "name": "python",
   "nbconvert_exporter": "python",
   "pygments_lexer": "ipython3",
   "version": "3.9.13"
  }
 },
 "nbformat": 4,
 "nbformat_minor": 2
}
